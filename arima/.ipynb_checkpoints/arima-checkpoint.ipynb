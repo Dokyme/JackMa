{
 "cells": [
  {
   "cell_type": "code",
   "execution_count": null,
   "metadata": {},
   "outputs": [],
   "source": [
    "import pandas as pd\n",
    "import numpy as np\n",
    "import matplotlib.pylab as plt\n",
    "from matplotlib.pylab import rcParams\n",
    "import statsmodels.tsa.stattools as st\n",
    "from statsmodels.tsa.stattools import adfuller\n",
    "from statsmodels.tsa.seasonal import seasonal_decompose\n",
    "from statsmodels.tsa.stattools import acf, pacf\n",
    "from statsmodels.tsa.arima_model import ARIMA"
   ]
  },
  {
   "cell_type": "code",
   "execution_count": null,
   "metadata": {},
   "outputs": [],
   "source": [
    "sb=pd.read_csv(\"mfd_bank_shibor.csv\",parse_dates=[\"mfd_date\"],date_parser=lambda date:pd.datetime.strptime(date,\"%Y%m%d\"))\n",
    "it=pd.read_csv(\"mfd_day_share_interest.csv\",parse_dates=[\"mfd_date\"],date_parser=lambda date:pd.datetime.strptime(date,\"%Y%m%d\"))\n",
    "bl=pd.read_csv(\"user_balance_table.csv\",parse_dates=[\"report_date\"],date_parser=lambda date:pd.datetime.strptime(date,\"%Y%m%d\"))\n",
    "itsb=pd.merge(sb,it,on=\"mfd_date\")\n",
    "data=pd.merge(itsb,bl,left_on=\"mfd_date\",right_on=\"report_date\")\n",
    "data.set_index(\"report_date\",inplace=True)\n",
    "data.pop(\"mfd_date\")\n",
    "data=data.groupby(by=\"report_date\").sum()"
   ]
  },
  {
   "cell_type": "code",
   "execution_count": null,
   "metadata": {},
   "outputs": [],
   "source": [
    "def test_stationarity(timeseries):\n",
    "    \"\"\"\n",
    "    平稳性检验\n",
    "    \"\"\"\n",
    "    rolmean = pd.rolling_mean(timeseries, window=12)  # 滑动平均数\n",
    "    rolstd = pd.rolling_std(timeseries, window=12)  # 滑动标准差\n",
    "\n",
    "    # 画出原时序、滑动平均数和滑动标准差的曲线\n",
    "    plt.figure(figsize=(17,6))\n",
    "    orig = plt.plot(timeseries, color='blue', label='Original')\n",
    "    mean = plt.plot(rolmean, color='red', label='Rolling Mean')\n",
    "    std = plt.plot(rolstd, color='black', label='Rolling Std')\n",
    "    plt.legend(loc='best')\n",
    "    plt.title('Rolling Mean & Standard Deviation')\n",
    "    plt.show(block=False)\n",
    "\n",
    "    # 进行 Dickey-Fuller 测试:\n",
    "    print('Results of Dickey-Fuller Test:')\n",
    "    dftest = adfuller(timeseries, autolag='AIC')\n",
    "    dfoutput = pd.Series(dftest[0:4], index=[\n",
    "                         'Test Statistic', 'p-value', '#Lags Used', 'Number of Observations Used'])\n",
    "    for key, value in dftest[4].items():\n",
    "        dfoutput['Critical Value (%s)' % key] = value\n",
    "    print(dfoutput)\n",
    "\n",
    "test_stationarity(data[\"total_purchase_amt\"]['2014-05':].diff().diff().diff().dropna())"
   ]
  },
  {
   "cell_type": "code",
   "execution_count": null,
   "metadata": {},
   "outputs": [],
   "source": [
    "data_acf=acf(data[\"total_purchase_amt\"]['2014-05':])\n",
    "data_pacf=pacf(data[\"total_purchase_amt\"]['2014-05':])\n",
    "#Plot ACF: \n",
    "plt.figure(figsize=(16,7))\n",
    "plt.subplot(121) \n",
    "plt.plot(data_acf)\n",
    "plt.axhline(y=0,linestyle='--',color='gray')\n",
    "plt.axhline(y=-1.96/np.sqrt(len(data[\"total_purchase_amt\"]['2014-05':])),linestyle='--',color='gray')\n",
    "plt.axhline(y=1.96/np.sqrt(len(data[\"total_purchase_amt\"]['2014-05':])),linestyle='--',color='gray')\n",
    "plt.title('Autocorrelation Function')\n",
    "#Plot PACF:\n",
    "plt.subplot(122)\n",
    "plt.plot(data_pacf)\n",
    "plt.axhline(y=0,linestyle='--',color='gray')\n",
    "plt.axhline(y=-1.96/np.sqrt(len(data[\"total_purchase_amt\"]['2014-05':])),linestyle='--',color='gray')\n",
    "plt.axhline(y=1.96/np.sqrt(len(data[\"total_purchase_amt\"]['2014-05':])),linestyle='--',color='gray')\n",
    "plt.title('Partial Autocorrelation Function')\n",
    "plt.tight_layout()"
   ]
  },
  {
   "cell_type": "code",
   "execution_count": null,
   "metadata": {},
   "outputs": [],
   "source": [
    "model = ARIMA(data[\"total_purchase_amt\"]['2014-05':].diff().diff().dropna(), order=(2, 2, 2))  \n",
    "results_ARIMA = model.fit(disp=-1)  \n",
    "plt.figure(figsize=(16,7))\n",
    "plt.plot(data[\"total_purchase_amt\"]['2014-05':].diff().diff().dropna())\n",
    "plt.plot(results_ARIMA.fittedvalues, color='red')"
   ]
  },
  {
   "cell_type": "code",
   "execution_count": null,
   "metadata": {},
   "outputs": [],
   "source": []
  },
  {
   "cell_type": "code",
   "execution_count": null,
   "metadata": {},
   "outputs": [],
   "source": []
  },
  {
   "cell_type": "code",
   "execution_count": null,
   "metadata": {},
   "outputs": [],
   "source": []
  },
  {
   "cell_type": "code",
   "execution_count": null,
   "metadata": {},
   "outputs": [],
   "source": []
  }
 ],
 "metadata": {
  "kernelspec": {
   "display_name": "Python 3",
   "language": "python",
   "name": "python3"
  },
  "language_info": {
   "codemirror_mode": {
    "name": "ipython",
    "version": 3
   },
   "file_extension": ".py",
   "mimetype": "text/x-python",
   "name": "python",
   "nbconvert_exporter": "python",
   "pygments_lexer": "ipython3",
   "version": "3.6.4"
  }
 },
 "nbformat": 4,
 "nbformat_minor": 2
}
